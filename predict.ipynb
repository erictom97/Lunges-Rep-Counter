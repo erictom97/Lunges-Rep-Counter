{
 "cells": [
  {
   "cell_type": "code",
   "execution_count": 89,
   "metadata": {},
   "outputs": [],
   "source": [
    "import mediapipe as mp\n",
    "import cv2\n",
    "import numpy as np\n",
    "import os\n",
    "import pandas as pd\n",
    "import warnings\n",
    "from itertools import count\n",
    "import pickle\n",
    "warnings.filterwarnings(\"ignore\")"
   ]
  },
  {
   "cell_type": "code",
   "execution_count": 90,
   "metadata": {},
   "outputs": [],
   "source": [
    "with open('lunges_bot3_rf.pkl', 'rb') as f:\n",
    "    model_rf = pickle.load(f)"
   ]
  },
  {
   "cell_type": "code",
   "execution_count": 91,
   "metadata": {},
   "outputs": [],
   "source": [
    "mp_drawing = mp.solutions.drawing_utils\n",
    "mp_pose = mp.solutions.pose\n",
    "landmarks = ['class']\n",
    "for val in range(1, 33+1):\n",
    "    landmarks += ['x{}'.format(val), 'y{}'.format(val), 'z{}'.format(val), 'v{}'.format(val)]"
   ]
  },
  {
   "cell_type": "code",
   "execution_count": 92,
   "metadata": {},
   "outputs": [],
   "source": [
    "video_path = 'lunges_video.mp4'\n",
    "cap = cv2.VideoCapture(video_path)\n",
    "frame_width = int(cap.get(3))\n",
    "frame_height = int(cap.get(4))\n",
    "size = (frame_width, frame_height)\n",
    "current_stage = ['']\n",
    "writer = cv2.VideoWriter('result.avi', \n",
    "                            cv2.VideoWriter_fourcc(*'MJPG'), 30, size)"
   ]
  },
  {
   "cell_type": "code",
   "execution_count": 93,
   "metadata": {},
   "outputs": [],
   "source": [
    "with mp_pose.Pose(min_detection_confidence=0.5, min_tracking_confidence=0.5) as pose:\n",
    "    while cap.isOpened():\n",
    "        ret, frame = cap.read()\n",
    "        if ret:\n",
    "            # Recolor image to RGB\n",
    "            image = cv2.cvtColor(frame, cv2.COLOR_BGR2RGB)\n",
    "            image.flags.writeable = False\n",
    "\n",
    "            # Make detection\n",
    "            results = pose.process(image)\n",
    "\n",
    "            image.flags.writeable = True\n",
    "            image = cv2.cvtColor(image, cv2.COLOR_RGB2BGR)\n",
    "            mp_drawing.draw_landmarks(image, results.pose_landmarks, mp_pose.POSE_CONNECTIONS,\n",
    "                                    mp_drawing.DrawingSpec(color=(245,117,66), thickness=2, circle_radius=2), \n",
    "                                    mp_drawing.DrawingSpec(color=(245,66,230), thickness=2, circle_radius=2) \n",
    "                                    )\n",
    "            \n",
    "            try:\n",
    "                if results.pose_landmarks is not None:\n",
    "                    row = np.array([[res.x, res.y, res.z, res.visibility] for res in results.pose_landmarks.landmark],dtype=object).flatten()\n",
    "                    X = pd.DataFrame([row],columns=landmarks[1:])\n",
    "                    body_language_class = model_rf.predict(X)[0]\n",
    "                    body_language_prob = model_rf.predict_proba(X)[0]\n",
    "                    # print(body_language_class, body_language_prob)\n",
    "\n",
    "                    if body_language_class == 'up' and body_language_prob[body_language_prob.argmax()] > 0.7:\n",
    "                        if current_stage[-1]!='up':\n",
    "                            current_stage.append('up')\n",
    "                    elif body_language_class == 'left' and body_language_prob[body_language_prob.argmax()] > 0.7:\n",
    "                        if current_stage[-1]!='left':\n",
    "                            current_stage.append('left')\n",
    "                    elif body_language_class == 'right' and body_language_prob[body_language_prob.argmax()] > 0.7:\n",
    "                        if current_stage[-1]!='right':\n",
    "                            current_stage.append('right')\n",
    "                   \n",
    "\n",
    "                    cv2.rectangle(image, (0,0), (280,180), (245,117,16), -1)\n",
    "\n",
    "                    cv2.putText(image, f'Stage: {current_stage[-1].upper()}',\n",
    "                            (10,60), cv2.FONT_HERSHEY_SIMPLEX, 1, (0,0,0), 1, cv2.LINE_AA)\n",
    "                 \n",
    "                    left_count = current_stage.count('left')\n",
    "                    cv2.putText(image, f'Left Count: {left_count}',\n",
    "                        (10,100), cv2.FONT_HERSHEY_SIMPLEX, 1, (0,0,0), 1, cv2.LINE_AA)\n",
    "                    # elif current_stage[-1] == 'right':\n",
    "                    right_count = current_stage.count('right')\n",
    "                    cv2.putText(image, f'Right Count: {right_count}',\n",
    "                        (10,140), cv2.FONT_HERSHEY_SIMPLEX, 1, (0,0,0), 1, cv2.LINE_AA)\n",
    "                \n",
    "                    k = cv2.waitKey(1)\n",
    "                    cv2.imshow('Lunges Feed', image)\n",
    "                    writer.write(image)\n",
    "                    if cv2.waitKey(10) & 0xFF == ord('q'):\n",
    "                        break\n",
    "\n",
    "            except Exception as e:\n",
    "                print(e)\n",
    "                # print(results.pose_landmarks)\n",
    "                pass\n",
    "\n",
    "        else:\n",
    "                break"
   ]
  },
  {
   "cell_type": "code",
   "execution_count": null,
   "metadata": {},
   "outputs": [],
   "source": []
  }
 ],
 "metadata": {
  "kernelspec": {
   "display_name": "Dissertation",
   "language": "python",
   "name": "python3"
  },
  "language_info": {
   "codemirror_mode": {
    "name": "ipython",
    "version": 3
   },
   "file_extension": ".py",
   "mimetype": "text/x-python",
   "name": "python",
   "nbconvert_exporter": "python",
   "pygments_lexer": "ipython3",
   "version": "3.11.4"
  },
  "orig_nbformat": 4
 },
 "nbformat": 4,
 "nbformat_minor": 2
}
